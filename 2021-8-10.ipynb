{
 "cells": [
  {
   "cell_type": "code",
   "execution_count": 14,
   "id": "ea8e5102-d553-4868-b877-d726fc058ff3",
   "metadata": {},
   "outputs": [],
   "source": [
    "class Stack:\n",
    "    def __init__(self):\n",
    "        self.items = [] \n",
    "    def push (self, item):\n",
    "        self.items.insert(0,item)\n",
    "    def pop (self):\n",
    "        return self.items.pop(0)\n",
    "    def peek(self):\n",
    "        return self.items[0]\n",
    "    def size (self):\n",
    "        return len(self.items)\n",
    "    def print_stack(self):\n",
    "        return self.items\n",
    "    def print_without_using_insert(self,item):\n",
    "        item = [item]\n",
    "        self.items = item + self.items \n",
    "    def is_empty(self):\n",
    "        return len(self.items) == 0\n",
    "        return (\"stack is empty\")\n",
    "    \n",
    "\n",
    "\n"
   ]
  },
  {
   "cell_type": "code",
   "execution_count": 17,
   "id": "3cc9e09f-24da-4f81-b38b-8795c85aba3d",
   "metadata": {},
   "outputs": [
    {
     "ename": "NameError",
     "evalue": "name 'Stack' is not defined",
     "output_type": "error",
     "traceback": [
      "\u001b[1;31m---------------------------------------------------------------------------\u001b[0m",
      "\u001b[1;31mNameError\u001b[0m                                 Traceback (most recent call last)",
      "\u001b[1;32m<ipython-input-17-b1593639e3e6>\u001b[0m in \u001b[0;36m<module>\u001b[1;34m\u001b[0m\n\u001b[1;32m----> 1\u001b[1;33m \u001b[0mstack\u001b[0m\u001b[1;33m=\u001b[0m \u001b[0mStack\u001b[0m\u001b[1;33m(\u001b[0m\u001b[1;33m)\u001b[0m\u001b[1;33m\u001b[0m\u001b[1;33m\u001b[0m\u001b[0m\n\u001b[0m",
      "\u001b[1;31mNameError\u001b[0m: name 'Stack' is not defined"
     ]
    }
   ],
   "source": [
    " stack= Stack()\n"
   ]
  },
  {
   "cell_type": "code",
   "execution_count": null,
   "id": "5568cb97-f243-42c9-9819-bb26770d4926",
   "metadata": {},
   "outputs": [],
   "source": [
    "stack.push(1)\n",
    "stack.push(2)\n",
    "stack.push(3)\n",
    "stack.push(4)\n",
    "stack.push(5)"
   ]
  },
  {
   "cell_type": "code",
   "execution_count": null,
   "id": "e097474f-193f-4493-8342-a917e08fa576",
   "metadata": {},
   "outputs": [],
   "source": [
    "stack.print_stack()"
   ]
  },
  {
   "cell_type": "code",
   "execution_count": null,
   "id": "7c588329-8501-443d-99f4-bdeaf31a0c65",
   "metadata": {},
   "outputs": [],
   "source": [
    "stack.pop()"
   ]
  },
  {
   "cell_type": "code",
   "execution_count": null,
   "id": "1c16d65b-3ad2-4051-9a2f-977303c3a9e5",
   "metadata": {},
   "outputs": [],
   "source": [
    "stack.print_stack()"
   ]
  },
  {
   "cell_type": "code",
   "execution_count": null,
   "id": "2cd0cbd2-9342-4b08-962c-b47c34386d3a",
   "metadata": {},
   "outputs": [],
   "source": [
    "stack.peak()"
   ]
  },
  {
   "cell_type": "code",
   "execution_count": null,
   "id": "061088b9-8d23-45e0-9754-2c8e2e641718",
   "metadata": {},
   "outputs": [],
   "source": [
    "stack.size()\n"
   ]
  }
 ],
 "metadata": {
  "kernelspec": {
   "display_name": "Python 3",
   "language": "python",
   "name": "python3"
  },
  "language_info": {
   "codemirror_mode": {
    "name": "ipython",
    "version": 3
   },
   "file_extension": ".py",
   "mimetype": "text/x-python",
   "name": "python",
   "nbconvert_exporter": "python",
   "pygments_lexer": "ipython3",
   "version": "3.8.8"
  }
 },
 "nbformat": 4,
 "nbformat_minor": 5
}
